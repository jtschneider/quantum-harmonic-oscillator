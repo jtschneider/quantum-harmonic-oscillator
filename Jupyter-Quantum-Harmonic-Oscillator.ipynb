{
 "cells": [
  {
   "cell_type": "code",
   "execution_count": null,
   "metadata": {},
   "outputs": [],
   "source": [
    "using InteractiveUtils\n",
    "using Interact  # use interactive HTML binding of variables\n",
    "using Plots     # use Plot package to ... plot\n",
    "using Printf\n",
    "plotlyjs()"
   ]
  },
  {
   "cell_type": "code",
   "execution_count": null,
   "metadata": {},
   "outputs": [],
   "source": [
    "coeff_ration(n::Int,ε) = (2.0*(n-2) + 1 - 2ε)/(n*(n-1))"
   ]
  },
  {
   "cell_type": "code",
   "execution_count": null,
   "metadata": {},
   "outputs": [],
   "source": [
    "function CEven(n::Int,ε) # define even coefficients\n",
    "   if n==0\n",
    "        return 1.0\n",
    "    elseif n == 1\n",
    "        return 0.0\n",
    "    end\n",
    "    return CEven(n-2,ε) * coeff_ration(n,ε)\n",
    "end"
   ]
  },
  {
   "cell_type": "code",
   "execution_count": null,
   "metadata": {},
   "outputs": [],
   "source": [
    "function COdd(n::Int,ε) # define odd coefficients\n",
    "    if n==1\n",
    "        return 1.0\n",
    "    elseif n == 0\n",
    "        return 0.0\n",
    "    end\n",
    "    return COdd(n-2,ε) * coeff_ration(n,ε)\n",
    "end"
   ]
  },
  {
   "cell_type": "code",
   "execution_count": null,
   "metadata": {},
   "outputs": [],
   "source": [
    "numberOfTerms = 200"
   ]
  },
  {
   "cell_type": "code",
   "execution_count": null,
   "metadata": {},
   "outputs": [],
   "source": [
    "ψEven(x, ε) = sum( η -> CEven(η, ε) * x^η, 0:1:numberOfTerms) * exp(-x^2/2)\n",
    "ψOdd(x, ε)  = sum( η ->  COdd(η, ε) * x^η, 0:1:numberOfTerms) * exp(-x^2/2)"
   ]
  },
  {
   "cell_type": "code",
   "execution_count": null,
   "metadata": {},
   "outputs": [],
   "source": [
    "# define x range to plot\n",
    "xPlot = -5:0.01:5"
   ]
  },
  {
   "cell_type": "code",
   "execution_count": null,
   "metadata": {},
   "outputs": [],
   "source": [
    "# define energy of state\n",
    "ε = 0.5"
   ]
  },
  {
   "cell_type": "code",
   "execution_count": null,
   "metadata": {},
   "outputs": [],
   "source": [
    "plotlyjs() # change to plotlyJS plotting backend\n",
    "plot1 = plot(xPlot, xPlot .^2, label=\"V(x) = x²\")\n",
    "plot!(plot1, xPlot, ψEven.(xPlot, ε), label=\"ψ even, ε=$(@sprintf(\"%.2f\",ε))\")\n",
    "ylims!(plot1, (-5,5))\n",
    "title!(plot1, \"Even wavefunctions\")"
   ]
  },
  {
   "cell_type": "code",
   "execution_count": null,
   "metadata": {},
   "outputs": [],
   "source": [
    "plotlyjs() # change to plotlyJS plotting backend\n",
    "plot2 = plot(xPlot, xPlot .^2, label=\"V(x) = x²\")\n",
    "plot!(plot2, xPlot, ψOdd.(xPlot, ε), label=\"ψ odd, ε=$(@sprintf(\"%.2f\",ε))\")\n",
    "ylims!(plot2, (-5,5))\n",
    "title!(plot2, \"Odd wavefunctions\")"
   ]
  },
  {
   "cell_type": "code",
   "execution_count": null,
   "metadata": {},
   "outputs": [],
   "source": [
    "pyplot() # change to GR plotting backend\n",
    "@gif for ε ∈ 0.1:0.05:10.0\n",
    "    plot(xPlot, xPlot .^2, label=\"V(x) = x²\")\n",
    "    ylims!((-4,4))\n",
    "    title!(\"Even wavefunctions\")\n",
    "    plot!(xPlot, ψEven.(xPlot, ε), label=\"ψ even, ε=$(@sprintf(\"%.2f\",ε))\")\n",
    "end"
   ]
  },
  {
   "cell_type": "code",
   "execution_count": null,
   "metadata": {},
   "outputs": [],
   "source": [
    "gr()\n",
    "@gif for ε ∈ 0.1:0.05:10.0\n",
    "    plot(xPlot, xPlot .^2, label=\"V(x) = x²\")\n",
    "    ylims!((-4,4))\n",
    "    title!(\"Odd wavefunctions\")\n",
    "    plot!(xPlot, ψOdd.(xPlot, ε), label=\"ψ odd, ε=$(@sprintf(\"%.2f\",ε))\")\n",
    "end"
   ]
  },
  {
   "cell_type": "code",
   "execution_count": null,
   "metadata": {},
   "outputs": [],
   "source": []
  }
 ],
 "metadata": {
  "@webio": {
   "lastCommId": null,
   "lastKernelId": null
  },
  "kernelspec": {
   "display_name": "Julia 1.6.0",
   "language": "julia",
   "name": "julia-1.6"
  },
  "language_info": {
   "file_extension": ".jl",
   "mimetype": "application/julia",
   "name": "julia",
   "version": "1.6.0"
  }
 },
 "nbformat": 4,
 "nbformat_minor": 4
}
